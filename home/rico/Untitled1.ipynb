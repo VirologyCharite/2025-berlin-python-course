{
 "cells": [
  {
   "cell_type": "code",
   "execution_count": 2,
   "id": "c1cf5471-cc80-4a0a-9f6b-0c720e168fb2",
   "metadata": {},
   "outputs": [
    {
     "name": "stdout",
     "output_type": "stream",
     "text": [
      "got this before id2 before\n",
      "Found 2 unique sequence ids.\n"
     ]
    }
   ],
   "source": [
    "f = open(\"/data/sequences-2.fasta\")\n",
    "\n",
    "sequence_ids_seen = set()\n",
    "\n",
    "for line in f:\n",
    "    if line.startswith(\">\"):\n",
    "        line = line[1:].strip()\n",
    "        if line in sequence_ids_seen:\n",
    "            print(\"got this before\", line, \"before\")\n",
    "        sequence_ids_seen.add(line)\n",
    "\n",
    "print(\"Found\", len(sequence_ids_seen), \"unique sequence ids.\")"
   ]
  }
 ],
 "metadata": {
  "kernelspec": {
   "display_name": "Python 3 (ipykernel)",
   "language": "python",
   "name": "python3"
  },
  "language_info": {
   "codemirror_mode": {
    "name": "ipython",
    "version": 3
   },
   "file_extension": ".py",
   "mimetype": "text/x-python",
   "name": "python",
   "nbconvert_exporter": "python",
   "pygments_lexer": "ipython3",
   "version": "3.12.3"
  }
 },
 "nbformat": 4,
 "nbformat_minor": 5
}
