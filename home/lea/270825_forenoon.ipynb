{
 "cells": [
  {
   "cell_type": "markdown",
   "id": "5ef2b07e-5509-407d-806d-056127a18f93",
   "metadata": {},
   "source": [
    "# 270825"
   ]
  },
  {
   "cell_type": "code",
   "execution_count": null,
   "id": "0769dc17-f0ac-4d65-a1e9-5476ec8e266c",
   "metadata": {},
   "outputs": [],
   "source": [
    "# open (\"w\") – activate writing mode\n",
    "# with open(file, \"w\") as file_object: – python then closes file automatically\n",
    "\n",
    "# new python environment\n",
    "python -m venv myenv\n",
    "source myenv/bin/activate\n",
    "type python\n",
    "deactivate\n",
    "\n",
    "# argparse analyzes command line\n",
    "# nargs = \"+\"  # number of arguments is more than one\n",
    "# parser.add_argument(files, help=\"\")\n",
    "# *.pdf refers to all PDF files"
   ]
  },
  {
   "cell_type": "markdown",
   "id": "56753382-cc4f-4be8-a6ff-c0a54a90adef",
   "metadata": {},
   "source": [
    "Use marimo instead of jupyter\n",
    "* load df\n",
    "* chart icon\n",
    "* click + next to table"
   ]
  },
  {
   "cell_type": "code",
   "execution_count": null,
   "id": "2bbd5525-a46b-4956-a8e2-bac7d881ef1e",
   "metadata": {},
   "outputs": [],
   "source": [
    "from pypdf import PdfReader\n",
    "def examine_pdf(filename, pattern)\n",
    "    reader = PdfReader(filename)\n",
    "    page_number = 0\n",
    "    result = {}\n",
    "    for page in reader.pages:\n",
    "        page_number += 1\n",
    "        page_text = page.extract_text().lower()\n",
    "        line number = 0\n",
    "        lines = page_text.split(\"/n\")\n",
    "        for line i lines:\n",
    "        line number += 1\n",
    "        if pattern in line: \n",
    "            if page_number not in results:\n",
    "                result[page_number] = [] # add list\n",
    "            result[page_number].append(line_number, line) # add tuple\n",
    "    return result\n",
    "            \n",
    "            matched_pages.append(str(page_number))\n",
    "        # print (f\" {line number}: {line}\" )\n",
    "        if target in page_text:\n",
    "            print (f\"The file {filename} has a match on page {page_number}\")\n",
    "examine_pdf(\"../Zhongwei/No.1.pdf\", \"orthopedic\")"
   ]
  },
  {
   "cell_type": "code",
   "execution_count": null,
   "id": "143f59b7-ed16-4ab4-9a9d-beb6eb98eaf6",
   "metadata": {},
   "outputs": [],
   "source": [
    "from pypdf import PdfReader\n",
    "\n",
    "reader = PdfReader(\"../Zhongwei/No.1.pdf\")\n",
    "number_of_pages = len(reader.pages)\n",
    "page = reader.pages[0] # first page\n",
    "text = page.extract_text()"
   ]
  },
  {
   "cell_type": "code",
   "execution_count": null,
   "id": "8b684fc3-71f4-4be8-b8bc-f8e2fe98b501",
   "metadata": {},
   "outputs": [],
   "source": []
  },
  {
   "cell_type": "code",
   "execution_count": null,
   "id": "9c9cc231-9976-4d78-adf6-aae5234ae9d4",
   "metadata": {},
   "outputs": [],
   "source": []
  }
 ],
 "metadata": {
  "kernelspec": {
   "display_name": "Python 3 (ipykernel)",
   "language": "python",
   "name": "python3"
  },
  "language_info": {
   "codemirror_mode": {
    "name": "ipython",
    "version": 3
   },
   "file_extension": ".py",
   "mimetype": "text/x-python",
   "name": "python",
   "nbconvert_exporter": "python",
   "pygments_lexer": "ipython3",
   "version": "3.12.3"
  }
 },
 "nbformat": 4,
 "nbformat_minor": 5
}
