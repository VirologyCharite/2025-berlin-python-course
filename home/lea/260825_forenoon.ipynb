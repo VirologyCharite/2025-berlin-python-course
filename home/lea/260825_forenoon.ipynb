{
 "cells": [
  {
   "cell_type": "markdown",
   "id": "48cb8aa8-0ae0-4328-8744-9ce2275347a4",
   "metadata": {},
   "source": [
    "# 260825 \n",
    "\n",
    "### Flow of control\n",
    "* if / elif / else AND break if condition is true\n",
    "    * not – logical testing\n",
    "    * pass - do nothing\n",
    "* for (no condition):\n",
    "    * > loop on pre-existing set / know how many times\n",
    "* while (condition):\n",
    "    * > loop until condition is true\n",
    "\n",
    "### Data structures\n",
    "* dictionary:\n",
    "    * > contains key & value\n",
    "    * > create: x = {} OR dict()\n",
    "    * > values: x[]\n",
    "* list []:\n",
    "    * > has order and duplicates\n",
    "    * > you can change a list\n",
    "    * > by append() to add to len() of a list\n",
    "* tuple ():\n",
    "    * > you cannot change a tuple (does not support item assignment)\n",
    "    * > less memory than list\n",
    "* set:\n",
    "    * > has no order and no duplicates\n",
    "    * > create: x = set() \n",
    "\n",
    "### Syntax\n",
    "\n",
    "## = \n",
    " > assignment (re/define a variable: a = 3)\n",
    "## ==\n",
    " > check if two things are equal (if a == 3)\n",
    "### ()\n",
    " > build a tuple OR pass arguments to fct (calculate(\"3\", \"*\", \"4\"))\n",
    "### []\n",
    " > build a list OR access element of dict OR list OR tuple (print(a[1]))\n",
    "### {}\n",
    " > build a dictionary (a={}) OR build a set (a = {\"1\", \"hello\"}) OR \n",
    "# ,\n",
    " > separate values in tuple or fct ((a = 3, 4) OR (calculate(\"3\", \"*\", \"4\"))\n",
    "# .\n",
    " > access a fct (startswith) or object (line), e.g. line.startswith(>) OR line.lower()\n",
    "### ' OR \" \n",
    " > create a string \n",
    "\n",
    "### Key words\n",
    "* None – NoneType object used to set a non-existing value\n",
    "* True / False – Boolean \n",
    "* def – define fct\n",
    "* in – check if val is in list, tupe, dict, string\n",
    "* input – read a line (string), e.g. \n",
    "* int – convert string to integer\n",
    "\n",
    "### Built-in fct\n",
    "* dict() – create dict\n",
    "* len() – return size\n",
    "* open() – open file\n",
    "* set() – create set\n",
    "* sum()\n",
    "* any() – if any, returns True / False\n",
    "* all() – if all, returns True / False\n",
    "* print()\n",
    "\n",
    "\n",
    "most_freq_word = None\n",
    "\n",
    "if most_freq_word is None\n",
    "\n",
    "print(\"input file empty\")\n",
    "\n",
    "else: print(\"most frequent word is {most_freq_word!r}\")\n",
    "\n",
    "''''''''''''''''''''''''''\n",
    "\n",
    "try: \n",
    "    a = 3 + None \n",
    "    \n",
    "except TypeError;\n",
    "    print (\"FAIL\")\n",
    "    \n",
    "else:\n",
    "    print (a)\n",
    "\n",
    "################\n",
    "\n",
    "* str() cannot change strings, but create new_string = string.replace (\"T\", \"F\"), which returns new string\n",
    "\n",
    "*  strings can have substing (sei in seiner)\n",
    "\n",
    "* initially variable to None\n",
    "\n",
    "## Python follows EAFP – Easier to ask for Forgiveness than Permission\n",
    "\n",
    "is check if same\n",
    "In Contain "
   ]
  },
  {
   "cell_type": "code",
   "execution_count": 18,
   "id": "1b8c9d14-4078-4058-897a-1482df144de3",
   "metadata": {},
   "outputs": [
    {
     "name": "stdout",
     "output_type": "stream",
     "text": [
      "Number of vowels in 'frIdAy' is 2\n"
     ]
    }
   ],
   "source": [
    "def count_vowels(word):\n",
    "    vowels = \"aeiou\"\n",
    "    count = 0\n",
    "    for letter in word.lower(): \n",
    "        if letter in vowels:\n",
    "            count += 1\n",
    "    if count > 0:\n",
    "        print(f\"Number of vowels in {word!r} is {count}\")\n",
    "    else:\n",
    "        print(f\"No vowels in {word!r}.\")\n",
    "    return count\n",
    "\n",
    "# Example usage\n",
    "word = \"frIdAy\"\n",
    "count = count_vowels(word)"
   ]
  },
  {
   "cell_type": "code",
   "execution_count": 19,
   "id": "8c9fad67-2a09-4c4d-92f1-a4b9690d06fa",
   "metadata": {},
   "outputs": [
    {
     "name": "stdout",
     "output_type": "stream",
     "text": [
      "Number of vowels in 'friday' is 2\n"
     ]
    }
   ],
   "source": [
    "def count_vowels(word):\n",
    "    vowels = set(\"aeiou\")\n",
    "    return sum(1 for letter in word.lower() if letter in vowels) # return sum(letter in \"aeiou\" for letter in word)\n",
    "\n",
    "word = \"friday\" # global variable\n",
    "count = count_vowels(word)\n",
    "\n",
    "if count:\n",
    "    print(f\"Number of vowels in {word!r} is {count}\")\n",
    "else:\n",
    "    print(f\"No vowels in {word!r}.\")"
   ]
  },
  {
   "cell_type": "code",
   "execution_count": 14,
   "id": "b65ded1a-5719-41e0-980b-bd0d853af52e",
   "metadata": {},
   "outputs": [
    {
     "name": "stdout",
     "output_type": "stream",
     "text": [
      "Number of vowels in 'friday' is 2\n"
     ]
    }
   ],
   "source": [
    "def count_vowels(word):\n",
    "    vowels = set(\"aeiouAEIOU\")\n",
    "    count = 0\n",
    "    for letter in word:\n",
    "        if letter in vowels:\n",
    "            count += 1\n",
    "    if count > 0:\n",
    "        print(f\"Number of vowels in {word!r} is {count}\")\n",
    "    else:\n",
    "        print(f\"No vowels in {word!r}.\")\n",
    "    return count\n",
    "\n",
    "# Example usage\n",
    "word = \"friday\"\n",
    "count = count_vowels(word)"
   ]
  },
  {
   "cell_type": "code",
   "execution_count": 12,
   "id": "3d44f809-de55-4887-91e6-c89e41aca9ea",
   "metadata": {},
   "outputs": [
    {
     "name": "stdout",
     "output_type": "stream",
     "text": [
      "Number of vowels in 'friday' is 2\n"
     ]
    }
   ],
   "source": [
    "def count_vowels(word):\n",
    "    vowels = set(\"aeiouAEIOU\")\n",
    "    return sum(1 for letter in word if letter in vowels)\n",
    "\n",
    "word = \"friday\"\n",
    "count = count_vowels(word)\n",
    "\n",
    "if count:\n",
    "    print(f\"Number of vowels in {word!r} is {count}\")\n",
    "else:\n",
    "    print(f\"No vowels in {word!r}.\")"
   ]
  },
  {
   "cell_type": "code",
   "execution_count": null,
   "id": "78111614-3521-4e6b-ade8-4e8551547aaa",
   "metadata": {},
   "outputs": [],
   "source": []
  },
  {
   "cell_type": "code",
   "execution_count": null,
   "id": "480327db-606d-4435-ae60-7b4a7e17d809",
   "metadata": {},
   "outputs": [],
   "source": [
    "done = False\n",
    "while done:\n",
    "    if line == \"q\" \n",
    "        done = True\n",
    "    else:"
   ]
  },
  {
   "cell_type": "code",
   "execution_count": null,
   "id": "150e8b14-19e5-4918-9c72-806c0996d181",
   "metadata": {},
   "outputs": [],
   "source": [
    "string = \"friday\"\n",
    "\n",
    "def count_vowals(\"word\"):\n",
    "    for word \n",
    "    vowel = (a, e, i, o, u)\n",
    "    if word contains vowel\n",
    "          count =+ 1\n",
    "    return vowals\n",
    "    count = len(vowals)\n",
    "    return count\n",
    "    print(\"Number of vowels\", {word!r}, \"is\", {count!r})\n",
    "    else\n",
    "    print(\"No vowels.\")\n",
    "    \n",
    "write fct \n",
    "str() argument if val add +=1 return count"
   ]
  },
  {
   "cell_type": "code",
   "execution_count": null,
   "id": "bf5d6cd2-cf18-450f-989d-604c20bca54a",
   "metadata": {},
   "outputs": [],
   "source": [
    "string = \"friday\"\n",
    "\n",
    "def count_vowals(word):\n",
    "    for word \n",
    "    vowel = (a, e, i, o, u)\n",
    "    count = 0\n",
    "    if word contains vowel = True\n",
    "          count =+ 1\n",
    "    return vowals\n",
    "    count = len(vowals)\n",
    "    return count\n",
    "    print(\"Number of vowels\", {word!r}, \"is\", {count!r})\n",
    "    else\n",
    "    print(\"No vowels.\")\n",
    "    \n",
    "write fct \n",
    "str() argument if val add +=1 return count"
   ]
  },
  {
   "cell_type": "code",
   "execution_count": 5,
   "id": "1c352035-44b9-4161-b184-1d1018b4d3ee",
   "metadata": {},
   "outputs": [],
   "source": [
    "word = \"friday\"\n",
    "\n",
    "def count_vowals(word):\n",
    "    vowels = (a, e, i, o, u)\n",
    "    count = 0\n",
    "    for letter in word.lower():\n",
    "        if letter is vowels:\n",
    "            count =+ 1\n",
    "    if count > 0:\n",
    "        print(f\"Number of vowels in {word!r} is {count}\")\n",
    "    else:\n",
    "        print(f\"No vowels in {word!r}.\")\n",
    "    return count"
   ]
  },
  {
   "cell_type": "code",
   "execution_count": 8,
   "id": "a963ae39-eef3-4815-814f-45fd5f89d9cf",
   "metadata": {},
   "outputs": [],
   "source": [
    "word = \"friday\"\n",
    "def count_vowels(word):\n",
    "    vowels = (\"a\", \"e\", \"i\", \"o\", \"u\")\n",
    "    count = 0\n",
    "    for letter in word.lower():\n",
    "        if letter in vowels:\n",
    "            count += 1\n",
    "        if count > 0:\n",
    "            print(f\"Number of vowels in {word!r} is {count}\")\n",
    "        else:\n",
    "            print(f\"No vowels in {word!r}.\")\n",
    "    return count"
   ]
  },
  {
   "cell_type": "code",
   "execution_count": 10,
   "id": "187365bd-87b0-4496-bf3c-ded74e6914c0",
   "metadata": {},
   "outputs": [],
   "source": []
  },
  {
   "cell_type": "code",
   "execution_count": null,
   "id": "426fdee2-c39b-4174-b59e-c922e77972aa",
   "metadata": {},
   "outputs": [],
   "source": []
  },
  {
   "cell_type": "code",
   "execution_count": null,
   "id": "37c9cf78-d752-4fb2-9b55-fb8f3366855e",
   "metadata": {
    "jupyter": {
     "source_hidden": true
    }
   },
   "outputs": [],
   "source": []
  }
 ],
 "metadata": {
  "kernelspec": {
   "display_name": "Python 3 (ipykernel)",
   "language": "python",
   "name": "python3"
  },
  "language_info": {
   "codemirror_mode": {
    "name": "ipython",
    "version": 3
   },
   "file_extension": ".py",
   "mimetype": "text/x-python",
   "name": "python",
   "nbconvert_exporter": "python",
   "pygments_lexer": "ipython3",
   "version": "3.12.3"
  }
 },
 "nbformat": 4,
 "nbformat_minor": 5
}
