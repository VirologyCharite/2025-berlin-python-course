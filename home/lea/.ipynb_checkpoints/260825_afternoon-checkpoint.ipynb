{
 "cells": [
  {
   "cell_type": "code",
   "execution_count": 15,
   "id": "e2014231-295a-4895-9e44-b771d9ff57b2",
   "metadata": {},
   "outputs": [
    {
     "name": "stdout",
     "output_type": "stream",
     "text": [
      "Unique vowels in 'FrIday Is Another Day': aeio\n"
     ]
    }
   ],
   "source": [
    "def vowels_in_word(word):\n",
    "    vowels = \"aeiou\"\n",
    "    found = set() # create an empty set (no duplicates allowed)\n",
    "    for letter in word.lower():\n",
    "        if letter in vowels:\n",
    "            found.add(letter) # add unique vowel to the set\n",
    "    if found:\n",
    "        print(f\"Unique vowels in {word!r}: {''.join(sorted(found))}\") # sorted() ensures alphabetical order\n",
    "    else:\n",
    "        print(f\"No vowels in {word!r}.\")\n",
    "    return found\n",
    "word = \"FrIday Is Another Day\"\n",
    "vowels_only = vowels_in_word(word)"
   ]
  },
  {
   "cell_type": "code",
   "execution_count": 24,
   "id": "d4475d1f-6ede-48ba-b234-8f3a1fd3b1c9",
   "metadata": {},
   "outputs": [
    {
     "name": "stdout",
     "output_type": "stream",
     "text": [
      "aeio"
     ]
    }
   ],
   "source": [
    "def vowels_in_word(word):\n",
    "    for vowel in \"aeiou\":\n",
    "        if vowel in word.lower(): # check if this vowel exists in word, if True check next letter\n",
    "            print(vowel, end=\"\")\n",
    "word = \"FrIday Is AnothEr Day\"\n",
    "vowels_in_word(word)"
   ]
  },
  {
   "cell_type": "markdown",
   "id": "e754b950-6a0e-43d3-bc84-7ca4688b5ec7",
   "metadata": {},
   "source": [
    "* turn set into string: print empty string add vowels seen\n",
    "* print(\"\".join(set))\n",
    "* or add to set:\n",
    "* vowels_seen = set()\n",
    "* vowels_seen.add(letter)\n",
    "* if len(vowels_seen) == 5 break\n",
    "* sorted returns new object list\n",
    "sort changes list\n",
    "cannot sort string, bec cannot be altered"
   ]
  },
  {
   "cell_type": "code",
   "execution_count": 8,
   "id": "8315d602-d77f-4a72-8b5f-3a2c1d58b06d",
   "metadata": {},
   "outputs": [
    {
     "name": "stdout",
     "output_type": "stream",
     "text": [
      "ia\n",
      "Vowels in 'FrIday': ia\n"
     ]
    }
   ],
   "source": [
    "def vowels_in_word(word):\n",
    "    vowels = \"aeiou\"\n",
    "    found = [] \n",
    "    \n",
    "    for letter in word.lower():\n",
    "        if letter in vowels:\n",
    "            print(letter, end='')\n",
    "            found.append(letter) # append() adds a single item to the end of a list.\n",
    "    print()\n",
    "    \n",
    "    if found:\n",
    "        print(f\"Vowels in {word!r}: {''.join(found)}\") # join() combines all elements of a list (of strings) into one string, using the given separator.\n",
    "    else:\n",
    "        print(f\"No vowels in {word!r}.\")\n",
    "    return found\n",
    "\n",
    "# Example usage\n",
    "word = \"FrIday\"\n",
    "vowels_only = vowels_in_word(word)"
   ]
  },
  {
   "cell_type": "code",
   "execution_count": 6,
   "id": "713260fb-e593-493c-9238-c3deb2f496fb",
   "metadata": {},
   "outputs": [
    {
     "name": "stdout",
     "output_type": "stream",
     "text": [
      "i\n",
      "a\n",
      "Vowels in 'frIday': ia\n"
     ]
    }
   ],
   "source": [
    "def vowels_in_word(word):\n",
    "    vowels = \"aeiou\"\n",
    "    found = [] \n",
    "    \n",
    "    for letter in word.lower():\n",
    "        if letter in vowels:\n",
    "            print(letter)      \n",
    "            found.append(letter)  \n",
    "    if found:\n",
    "        print(f\"Vowels in {word!r}: {''.join(found)}\")\n",
    "    else:\n",
    "        print(f\"No vowels in {word!r}.\")\n",
    "    \n",
    "    return found\n",
    "\n",
    "word = \"FrIday\"\n",
    "vowels_only = vowels_in_word(word)"
   ]
  },
  {
   "cell_type": "code",
   "execution_count": null,
   "id": "f3c2da5d-e5e5-4937-8707-7e37e7c9e8ad",
   "metadata": {},
   "outputs": [],
   "source": [
    "# initial draft\n",
    "def count_vowels(word):\n",
    "    vowels = \"aeiou\"\n",
    "    count = 0\n",
    "    for letter in word.lower(): \n",
    "        if letter in vowels:\n",
    "            count += 1\n",
    "    if count > 0:\n",
    "        print(f\"Number of vowels in {word!r} is {count}\")\n",
    "    else:\n",
    "        print(f\"No vowels in {word!r}.\")\n",
    "    return count\n",
    "\n",
    "# Example usage\n",
    "word = \"frIdAy\"\n",
    "count = count_vowels(word)\n",
    "\n",
    "def \n",
    "print word remove letters except vowels, maybe import re re\n",
    "if letter == vowel\n",
    "print (letter)\n",
    "if letter !== vowel\n",
    "print (None)\n",
    "return vowals_in_word"
   ]
  },
  {
   "cell_type": "code",
   "execution_count": 27,
   "id": "8ceec5b7-98e9-4242-9acd-3909a21839fe",
   "metadata": {},
   "outputs": [
    {
     "name": "stdout",
     "output_type": "stream",
     "text": [
      "True\n",
      "True\n",
      "False\n"
     ]
    }
   ],
   "source": [
    "def search_anagram(word1, word2):\n",
    "    return sorted(word1.lower()) == sorted(word2.lower())\n",
    "print(search_anagram(\"listen\", \"silent\"))   # True\n",
    "print(search_anagram(\"evil\", \"vile\"))       # True\n",
    "print(search_anagram(\"hello\", \"world\"))     # False"
   ]
  },
  {
   "cell_type": "code",
   "execution_count": 29,
   "id": "2e724073-8af8-4253-8f0e-acb09d64439d",
   "metadata": {},
   "outputs": [
    {
     "data": {
      "text/plain": [
       "['blue', 'green', 'red', 'violet']"
      ]
     },
     "execution_count": 29,
     "metadata": {},
     "output_type": "execute_result"
    }
   ],
   "source": [
    "a = [\"red\", \"green\", \"blue\", \"violet\"] \n",
    "sorted(a)"
   ]
  },
  {
   "cell_type": "markdown",
   "id": "9e9425e3-c37a-4649-8d25-6d2f0f02cd2c",
   "metadata": {},
   "source": [
    "# Inverse"
   ]
  },
  {
   "cell_type": "code",
   "execution_count": 38,
   "id": "cc605d98-2efc-429b-a48f-4c18ef8cca50",
   "metadata": {},
   "outputs": [
    {
     "name": "stdout",
     "output_type": "stream",
     "text": [
      "AGCCT\n"
     ]
    }
   ],
   "source": [
    "def reverse_complement(sequence):\n",
    "    dictionary = {\"A\": \"T\", \"T\": \"A\", \"C\": \"G\", \"G\": \"C\"}\n",
    "    return \"\".join(dictionary.get(nucleotide) for nucleotide in reversed(sequence))\n",
    "print(reverse_complement(\"AGGCT\"))"
   ]
  },
  {
   "cell_type": "code",
   "execution_count": 30,
   "id": "acbc8f1c-0654-4bed-b8b0-6997a7e87a16",
   "metadata": {},
   "outputs": [
    {
     "name": "stdout",
     "output_type": "stream",
     "text": [
      "AGCCT\n"
     ]
    }
   ],
   "source": [
    "def reverse_complement(sequence):\n",
    "    # Nucleotide complement dictionary\n",
    "    complement = {\n",
    "        \"A\": \"T\",\n",
    "        \"T\": \"A\",\n",
    "        \"C\": \"G\",\n",
    "        \"G\": \"C\"\n",
    "    }\n",
    "    \n",
    "    # Collect complements while reversing\n",
    "    result = []\n",
    "    for nucleotide in reversed(sequence.upper()):\n",
    "        if nucleotide in complement:\n",
    "            result.append(complement[nucleotide])\n",
    "        else:\n",
    "            result.append(\"N\")  # handles unknown letters\n",
    "    \n",
    "    # Join list into string and return\n",
    "    return \"\".join(result)\n",
    "\n",
    "print(reverse_complement(\"AGGCT\"))  # -> \"AGCCT\""
   ]
  },
  {
   "cell_type": "code",
   "execution_count": 36,
   "id": "55ddb894-e06f-47d6-b724-71eb9b0684d3",
   "metadata": {},
   "outputs": [
    {
     "name": "stdout",
     "output_type": "stream",
     "text": [
      "AGCCT\n"
     ]
    }
   ],
   "source": [
    "def reverse_complement(sequence):\n",
    "    dictionary = {\"A\": \"T\", \"T\": \"A\", \"C\": \"G\", \"G\": \"C\"}\n",
    "    return \"\".join(dictionary.get(nucleotide, \"N\") for nucleotide in reversed(sequence.upper()))\n",
    "\n",
    "print(reverse_complement(\"AGGCT\"))  # -> \"AGCCT\""
   ]
  },
  {
   "cell_type": "code",
   "execution_count": null,
   "id": "6eade38a-5410-4ac7-bbcc-06fa4a47ab2f",
   "metadata": {},
   "outputs": [],
   "source": [
    "Convert nucleotide complement dictionary\n",
    "Collect them and print them in the end\n",
    "\n",
    "dic()\n",
    "\n",
    "Def reverse_complement(sequence)\n",
    "# return reverse complemented string of sequence\n",
    "#reverse sequence and translate\n",
    "A to T\n",
    "C to G\n",
    "G to C\n",
    "T to A\n",
    "For nucleotide in reversed(sequence)\n",
    "Pass\n",
    "reverse_complement(\"AGGCT\")"
   ]
  },
  {
   "cell_type": "code",
   "execution_count": null,
   "id": "68896cc2-9f01-4ceb-8523-e765cb1dd427",
   "metadata": {},
   "outputs": [],
   "source": []
  }
 ],
 "metadata": {
  "kernelspec": {
   "display_name": "Python 3 (ipykernel)",
   "language": "python",
   "name": "python3"
  },
  "language_info": {
   "codemirror_mode": {
    "name": "ipython",
    "version": 3
   },
   "file_extension": ".py",
   "mimetype": "text/x-python",
   "name": "python",
   "nbconvert_exporter": "python",
   "pygments_lexer": "ipython3",
   "version": "3.12.3"
  }
 },
 "nbformat": 4,
 "nbformat_minor": 5
}
