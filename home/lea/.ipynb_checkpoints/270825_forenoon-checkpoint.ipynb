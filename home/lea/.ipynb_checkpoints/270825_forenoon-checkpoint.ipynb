{
 "cells": [
  {
   "cell_type": "markdown",
   "id": "5ef2b07e-5509-407d-806d-056127a18f93",
   "metadata": {},
   "source": [
    "# 270825"
   ]
  },
  {
   "cell_type": "code",
   "execution_count": null,
   "id": "0769dc17-f0ac-4d65-a1e9-5476ec8e266c",
   "metadata": {},
   "outputs": [],
   "source": [
    "# open (\"w\") – activate writing mode\n",
    "# with open(file, \"w\") as file_object: – python then closes file automatically\n",
    "\n",
    "# new python environment\n",
    "python -m venv myenv\n",
    "source myenv/bin/activate\n",
    "type python\n",
    "deactivate\n",
    "\n",
    "# argparse analyzes command line\n",
    "# nargs = \"+\"  # number of arguments is more than one\n",
    "# parser.add_argument(files, help=\"\")\n",
    "# *.pdf refers to all PDF files"
   ]
  },
  {
   "cell_type": "markdown",
   "id": "56753382-cc4f-4be8-a6ff-c0a54a90adef",
   "metadata": {},
   "source": [
    "Use marimo instead of jupyter\n",
    "* load df\n",
    "* chart icon\n",
    "* click + next to table"
   ]
  },
  {
   "cell_type": "code",
   "execution_count": null,
   "id": "2bbd5525-a46b-4956-a8e2-bac7d881ef1e",
   "metadata": {},
   "outputs": [],
   "source": [
    "from pypdf import PdfReader\n",
    "def examine_pdf(filename, pattern)\n",
    "    reader = PdfReader(filename)\n",
    "    page_number = 0\n",
    "    result = {}\n",
    "    for page in reader.pages:\n",
    "        page_number += 1\n",
    "        page_text = page.extract_text().lower()\n",
    "        line number = 0\n",
    "        lines = page_text.split(\"/n\")\n",
    "        for line i lines:\n",
    "        line number += 1\n",
    "        if pattern in line: \n",
    "            if page_number not in results:\n",
    "                result[page_number] = [] # add list\n",
    "            result[page_number].append(line_number, line) # add tuple\n",
    "    return result\n",
    "            \n",
    "            matched_pages.append(str(page_number))\n",
    "        # print (f\" {line number}: {line}\" )\n",
    "        if target in page_text:\n",
    "            print (f\"The file {filename} has a match on page {page_number}\")\n",
    "examine_pdf(\"../Zhongwei/No.1.pdf\", \"orthopedic\")"
   ]
  },
  {
   "cell_type": "code",
   "execution_count": 1,
   "id": "d07b34a1-54d5-4790-b930-fa5beff52108",
   "metadata": {},
   "outputs": [
    {
     "ename": "FileNotFoundError",
     "evalue": "[Errno 2] No such file or directory: '../Zhongwei/No.1.pdf'",
     "output_type": "error",
     "traceback": [
      "\u001b[31m---------------------------------------------------------------------------\u001b[39m",
      "\u001b[31mFileNotFoundError\u001b[39m                         Traceback (most recent call last)",
      "\u001b[36mCell\u001b[39m\u001b[36m \u001b[39m\u001b[32mIn[1]\u001b[39m\u001b[32m, line 3\u001b[39m\n\u001b[32m      1\u001b[39m \u001b[38;5;28;01mfrom\u001b[39;00m\u001b[38;5;250m \u001b[39m\u001b[34;01mpypdf\u001b[39;00m\u001b[38;5;250m \u001b[39m\u001b[38;5;28;01mimport\u001b[39;00m PdfReader\n\u001b[32m      2\u001b[39m filename = \u001b[33m\"\u001b[39m\u001b[33m../Zhongwei/No.1.pdf\u001b[39m\u001b[33m\"\u001b[39m\n\u001b[32m----> \u001b[39m\u001b[32m3\u001b[39m reader = \u001b[43mPdfReader\u001b[49m\u001b[43m(\u001b[49m\u001b[43mfilename\u001b[49m\u001b[43m)\u001b[49m\n\u001b[32m      4\u001b[39m target = \u001b[33m\"\u001b[39m\u001b[33morthopedic\u001b[39m\u001b[33m\"\u001b[39m\n\u001b[32m      5\u001b[39m page_number = \u001b[32m0\u001b[39m\n",
      "\u001b[36mFile \u001b[39m\u001b[32m/opt/jupyterhub/venv/lib/python3.12/site-packages/pypdf/_reader.py:131\u001b[39m, in \u001b[36mPdfReader.__init__\u001b[39m\u001b[34m(self, stream, strict, password)\u001b[39m\n\u001b[32m    127\u001b[39m \u001b[38;5;28mself\u001b[39m._page_id2num: Optional[\u001b[38;5;28mdict\u001b[39m[Any, Any]] = \u001b[38;5;28;01mNone\u001b[39;00m\n\u001b[32m    129\u001b[39m \u001b[38;5;28mself\u001b[39m._validated_root: Optional[DictionaryObject] = \u001b[38;5;28;01mNone\u001b[39;00m\n\u001b[32m--> \u001b[39m\u001b[32m131\u001b[39m \u001b[38;5;28;43mself\u001b[39;49m\u001b[43m.\u001b[49m\u001b[43m_initialize_stream\u001b[49m\u001b[43m(\u001b[49m\u001b[43mstream\u001b[49m\u001b[43m)\u001b[49m\n\u001b[32m    132\u001b[39m \u001b[38;5;28mself\u001b[39m._known_objects: \u001b[38;5;28mset\u001b[39m[\u001b[38;5;28mtuple\u001b[39m[\u001b[38;5;28mint\u001b[39m, \u001b[38;5;28mint\u001b[39m]] = \u001b[38;5;28mset\u001b[39m()\n\u001b[32m    134\u001b[39m \u001b[38;5;28mself\u001b[39m._override_encryption = \u001b[38;5;28;01mFalse\u001b[39;00m\n",
      "\u001b[36mFile \u001b[39m\u001b[32m/opt/jupyterhub/venv/lib/python3.12/site-packages/pypdf/_reader.py:150\u001b[39m, in \u001b[36mPdfReader._initialize_stream\u001b[39m\u001b[34m(self, stream)\u001b[39m\n\u001b[32m    148\u001b[39m \u001b[38;5;28mself\u001b[39m._stream_opened = \u001b[38;5;28;01mFalse\u001b[39;00m\n\u001b[32m    149\u001b[39m \u001b[38;5;28;01mif\u001b[39;00m \u001b[38;5;28misinstance\u001b[39m(stream, (\u001b[38;5;28mstr\u001b[39m, Path)):\n\u001b[32m--> \u001b[39m\u001b[32m150\u001b[39m     \u001b[38;5;28;01mwith\u001b[39;00m \u001b[38;5;28;43mopen\u001b[39;49m\u001b[43m(\u001b[49m\u001b[43mstream\u001b[49m\u001b[43m,\u001b[49m\u001b[43m \u001b[49m\u001b[33;43m\"\u001b[39;49m\u001b[33;43mrb\u001b[39;49m\u001b[33;43m\"\u001b[39;49m\u001b[43m)\u001b[49m \u001b[38;5;28;01mas\u001b[39;00m fh:\n\u001b[32m    151\u001b[39m         stream = BytesIO(fh.read())\n\u001b[32m    152\u001b[39m     \u001b[38;5;28mself\u001b[39m._stream_opened = \u001b[38;5;28;01mTrue\u001b[39;00m\n",
      "\u001b[31mFileNotFoundError\u001b[39m: [Errno 2] No such file or directory: '../Zhongwei/No.1.pdf'"
     ]
    }
   ],
   "source": [
    "from pypdf import PdfReader\n",
    "filename = \"../Zhongwei/No.1.pdf\"\n",
    "reader = PdfReader(filename)\n",
    "target = \"orthopedic\"\n",
    "page_number = 0\n",
    "for page in reader.pages:\n",
    "    page_number += 1\n",
    "    page_text = page.extract_text().lower()\n",
    "    if target in page_text:\n",
    "        print (f\"The file {filename} has a match on page {page_number}\")"
   ]
  },
  {
   "cell_type": "code",
   "execution_count": null,
   "id": "143f59b7-ed16-4ab4-9a9d-beb6eb98eaf6",
   "metadata": {},
   "outputs": [],
   "source": [
    "from pypdf import PdfReader\n",
    "\n",
    "reader = PdfReader(\"../Zhongwei/No.1.pdf\")\n",
    "number_of_pages = len(reader.pages)\n",
    "page = reader.pages[0] # first page\n",
    "text = page.extract_text()"
   ]
  }
 ],
 "metadata": {
  "kernelspec": {
   "display_name": "Python 3 (ipykernel)",
   "language": "python",
   "name": "python3"
  },
  "language_info": {
   "codemirror_mode": {
    "name": "ipython",
    "version": 3
   },
   "file_extension": ".py",
   "mimetype": "text/x-python",
   "name": "python",
   "nbconvert_exporter": "python",
   "pygments_lexer": "ipython3",
   "version": "3.12.3"
  }
 },
 "nbformat": 4,
 "nbformat_minor": 5
}
