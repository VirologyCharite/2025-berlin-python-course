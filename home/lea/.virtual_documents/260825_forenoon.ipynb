


def count_vowels(word):
    vowels = "aeiou"
    count = 0
    for letter in word.lower(): 
        if letter in vowels:
            count += 1
    if count > 0:
        print(f"Number of vowels in {word!r} is {count}")
    else:
        print(f"No vowels in {word!r}.")
    return count

# Example usage
word = "frIdAy"
count = count_vowels(word)


def count_vowels(word):
    vowels = set("aeiou")
    return sum(1 for letter in word.lower() if letter in vowels) # return sum(letter in "aeiou" for letter in word)

word = "friday" # global variable
count = count_vowels(word)

if count:
    print(f"Number of vowels in {word!r} is {count}")
else:
    print(f"No vowels in {word!r}.")


def count_vowels(word):
    vowels = set("aeiouAEIOU")
    count = 0
    for letter in word:
        if letter in vowels:
            count += 1
    if count > 0:
        print(f"Number of vowels in {word!r} is {count}")
    else:
        print(f"No vowels in {word!r}.")
    return count

# Example usage
word = "friday"
count = count_vowels(word)


def count_vowels(word):
    vowels = set("aeiouAEIOU")
    return sum(1 for letter in word if letter in vowels)

word = "friday"
count = count_vowels(word)

if count:
    print(f"Number of vowels in {word!r} is {count}")
else:
    print(f"No vowels in {word!r}.")





done = False
while done:
    if line == "q" 
        done = True
    else:


string = "friday"

def count_vowals("word"):
    for word 
    vowel = (a, e, i, o, u)
    if word contains vowel
          count =+ 1
    return vowals
    count = len(vowals)
    return count
    print("Number of vowels", {word!r}, "is", {count!r})
    else
    print("No vowels.")
    
write fct 
str() argument if val add +=1 return count


string = "friday"

def count_vowals(word):
    for word 
    vowel = (a, e, i, o, u)
    count = 0
    if word contains vowel = True
          count =+ 1
    return vowals
    count = len(vowals)
    return count
    print("Number of vowels", {word!r}, "is", {count!r})
    else
    print("No vowels.")
    
write fct 
str() argument if val add +=1 return count


word = "friday"

def count_vowals(word):
    vowels = (a, e, i, o, u)
    count = 0
    for letter in word.lower():
        if letter is vowels:
            count =+ 1
    if count > 0:
        print(f"Number of vowels in {word!r} is {count}")
    else:
        print(f"No vowels in {word!r}.")
    return count


word = "friday"
def count_vowels(word):
    vowels = ("a", "e", "i", "o", "u")
    count = 0
    for letter in word.lower():
        if letter in vowels:
            count += 1
        if count > 0:
            print(f"Number of vowels in {word!r} is {count}")
        else:
            print(f"No vowels in {word!r}.")
    return count









