


# re-define variables
ORIGINAL
current_count = dictionary[word] # >> call existing variable, which represents dictionary count
new_count = current_count + 1 # >> add 1 to existing variable 
OR
current_count = dictionary[word]
current_count = current_count + 1 # >> add 1 to existing variable 
OR 
current_count = current_count += 1
OR
if word in dictionary: 
    dictionary[word] += 1
else 
    dictionary[word]= 1


# remove Sonderzeichen
	for word in line.split(): # OR line.lower() 
        # word = word.replace(",", "")
        # word = word.replace(".", "")
        word = word.lower() # turnn every word into lower case version
        for unwanted_letter in (",", ".", ";"): # OR for unwanted_letter in .;,: 
            word = word.replace(unwanted_letter, "")


# original version
file = open("/data/crime-and-punishment.txt")

dictionary = {}  # create dictionary

for line in file:
    for word in line.split():
        if word in dictionary:
            current_count = dictionary[word]  # call existing variable, which represents dictionary count
            new_count = current_count + 1     # add 1 to existing variable
            dictionary[word] = new_count      # change dictionary count
        else:
            dictionary[word] = 1  # if not contained in dictionary add it

# print(dictionary)

highest_count = 0
for word, count in dictionary.items():  # add new variable count
    if count > highest_count:
        most_frequent_word = word  # remember most frequent word
        highest_count = count      # remember its count

print(f"The most common word is: {most_frequent_word!r} with count: {highest_count}")


# remove non-letter characters and upper case letters
import re

with open("/data/crime-and-punishment.txt", "r", encoding="utf-8") as file:
    dictionary = {}  # create dictionary

    for line in file:
        for word in line.split():
            word = re.sub(r'[^a-z]', '', word.lower())  # lowercase, then keep only a–z
            if not word:  # skip if it became empty (e.g., punctuation-only)
                continue
            if word in dictionary:
                current_count = dictionary[word]
                new_count = current_count + 1
                dictionary[word] = new_count
            else:
                dictionary[word] = 1

highest_count = 0
for word, count in dictionary.items():
    if count > highest_count:
        most_frequent_word = word
        highest_count = count

print(f"The most common word is: {most_frequent_word!r} with count: {highest_count}")





# sort based on frequency 
import re

# read & count words
dictionary = {}
with open("/data/crime-and-punishment.txt", "r", encoding="utf-8") as file:
    for line in file:
        for word in line.split():
            word = re.sub(r'[^a-z]', '', word.lower()) 
            if word:
                dictionary[word] = dictionary.get(word, 0) + 1

# sort by count
sorted_words = sorted(dictionary.items(), key=lambda x: x[1], reverse=True)

# print top 10
for word, count in sorted_words[:10]:
    print(f"{word}: {count}")


import re
dictionary = {}

with open("/data/crime-and-punishment.txt", "r", encoding="utf-8") as file: # open file read mode, decode bytes in strings
    for line in file:
        for word in line.split():
            word = re.sub(r'[^a-z]', '', word.lower())  # fct to: lowercase only & rmv non-letters
            if not word:
                continue
            if word in dictionary:
                dictionary[word] += 1
            else:
                dictionary[word] = 1

# sort words by count (highest first)
sorted_words = sorted(dictionary.items(), key=lambda x: x[1], reverse=True)

# print top 10 most frequent words
for word, count in sorted_words[:10]:
    print(f"{word}: {count}")





import re
import matplotlib.pyplot as plt

dictionary = {}

# ------------------------------
# 1) Wörter zählen
# ------------------------------
with open("/data/crime-and-punishment.txt", "r", encoding="utf-8") as file:
    for line in file:
        for word in line.split():
            word = re.sub(r'[^a-z]', '', word.lower())  # klein & nur Buchstaben
            if not word:
                continue
            if word in dictionary:
                dictionary[word] += 1
            else:
                dictionary[word] = 1

# ------------------------------
# 2) Wörter nach Häufigkeit sortieren
# ------------------------------
sorted_words = sorted(dictionary.items(), key=lambda x: x[1], reverse=True)

# ------------------------------
# 3) Top 10 ausgeben
# ------------------------------
for word, count in sorted_words[:10]:
    print(f"{word}: {count}")

# ------------------------------
# 4) Plot der relativen Häufigkeit
# ------------------------------
counts = [count for _, count in sorted_words]
total = sum(counts)
rel_freq = [c / total for c in counts]

ranks = range(1, len(rel_freq) + 1)

plt.figure(figsize=(8, 5))
plt.plot(ranks, rel_freq, marker="o", linestyle="-", color="steelblue")
plt.title("word frequencies in 'Crime and Punishment'")
plt.xlabel("ranking decreasing with frequency")
plt.ylabel("relative frequency")
plt.grid(True, linestyle="--", alpha=0.6)
plt.tight_layout()
plt.show()





# scatter plot
import re, numpy as np
import matplotlib.pyplot as plt

# --- 1) Count words (letters only, lowercase) ---
dictionary = {}
with open("/data/crime-and-punishment.txt", "r", encoding="utf-8") as file:
    for line in file:
        for word in line.split():
            word = re.sub(r'[^a-z]', '', word.lower())
            if not word:
                continue
            if word in dictionary:
                dictionary[word] += 1
            else:
                dictionary[word] = 1

# --- 2) Sort by frequency and make ranks & relative frequencies ---
sorted_words = sorted(dictionary.items(), key=lambda x: x[1], reverse=True)
counts = np.array([c for _, c in sorted_words], dtype=float)
total = counts.sum()
freq = counts / total                         # relative frequency
ranks = np.arange(1, len(freq) + 1, dtype=float)

# --- 3) Fit Zipf exponent on log-log (ignore zeros by construction) ---
x = np.log(ranks)
y = np.log(freq)
slope, intercept = np.polyfit(x, y, 1)       # y = intercept + slope * x
s = -slope                                   # Zipf exponent
C = np.exp(intercept)

# --- 4) Plot: log-log scatter + fitted Zipf line ---
plt.figure(figsize=(7,5))
plt.loglog(ranks, freq, marker='o', linestyle='none', alpha=0.6)
plt.loglog(ranks, C * ranks**(-s), linewidth=2)   # fitted reference line
plt.title(f"Zipf plot (f(r) = C·r^(-s),  s ≈ {s:.2f})")
plt.xlabel("rank r (log)")
plt.ylabel("relative frequency f(r) (log)")
plt.grid(True, which='both', linestyle='--', alpha=0.4)
plt.tight_layout()
plt.show()


# line plot
import re, numpy as np
import matplotlib.pyplot as plt

# --- 1) Count words ---
dictionary = {}
with open("/data/crime-and-punishment.txt", "r", encoding="utf-8") as file:
    for line in file:
        for word in line.split():
            word = re.sub(r'[^a-z]', '', word.lower())
            if not word:
                continue
            if word in dictionary:
                dictionary[word] += 1
            else:
                dictionary[word] = 1

# --- 2) Rank + relative frequency ---
sorted_words = sorted(dictionary.items(), key=lambda x: x[1], reverse=True)
counts = np.array([c for _, c in sorted_words], dtype=float)
freq = counts / counts.sum()
ranks = np.arange(1, len(freq) + 1, dtype=float)

# --- 3) Linear regression on log-log ---
x = np.log(ranks)
y = np.log(freq)
slope, intercept = np.polyfit(x, y, 1)
s = -slope
C = np.exp(intercept)

# --- 4) Plot line + regression reference ---
plt.figure(figsize=(7,5))
plt.loglog(ranks, freq, linestyle='-', color='steelblue', label="Word frequencies")
#plt.loglog(ranks, C * ranks**(-s), 'r--', linewidth=2, label=f"Fit (s ≈ {s:.2f})")
plt.title("Zipf's Law Plot")
plt.xlabel("Rank (log scale)")
plt.ylabel("Relative frequency (log scale)")
plt.legend()
plt.grid(True, which='both', linestyle='--', alpha=0.5)
plt.tight_layout()
plt.show()





file = open ("/data/sequences-1.fasta")
ids = set() # list has order and duplicates; a set doesn't
for line in file:
    if line.startswith(">"):
        line = line[1:].strip
        if line in ids:
            print("we have seen sequence id", line, "already")
        ids.add(line)

print ("found", len(ids), "unique sequence ids")


file = open ("/data/sequences-1.fasta")
ids = set() # list has order and duplicates; a set doesn't
for line in file:
    if line.startswith(">"):
        id = line.replace(">", "")
        line = line.strip()
        line = line[1:].strip
        count +=1
        if line in ids:
            print("we have seen sequence id", line, "already")
        ids.add(line)
print ("found", len(ids), "unique sequence ids")


file = open ("/data/sequences-1.fasta")
ids = set() # list has order and duplicates; a set doesn't
for line in file:
    if line.startswith(">"):
        #id = line.replace(">", "")
        #line = line.strip()
        line = line[1:].strip
        if line not in ids:
            count +=1
            ids.add(line)
            print (f">{line}-{count}")
        if line in ids:
            print("we have seen sequence id", line, "already")
        ids.add(line)
    else: 
        print(line)
print ("found", len(ids), "unique sequence ids")











while True: 
    line = input ("Enter your command: ")
    
    if line == "q":
        print(Quit)
        break #break loop if q 

    fields == line.split()
    if len(fields) == 3:
        val_1, operator, val_2
        value1= int(val_1)
        value2= int(val_2)
        if operator "+": 
            print(value1 + value2)
        elif operator "-": 
            print(value1 - value2)
        pass
        else
        print("Use exactly 3 fields.")
    
    print(line)





def evaluate():
    val_1, operator, val_2 = fields
    value1= int(val_1)
    value2= int(val_2)
    if operator "+": 
        print(value1 + value2)
    elif operator "-": 
        print(value1 - value2)
    pass
    else
        print("Use exactly 3 fields.")

while True: 
    line = input ("Enter your command: ")
    
    if line == "q":
        print(Quit)
        break #break loop if q 

    fields == line.split()

    if len(fields) == 3:
        print(evaluate(fields))
    else:
        print(line)


def evaluate():
    val_1, operator, val_2 = fields
    value1= int(val_1)
    value2= int(val_2)
    if operator "+": 
        print(value1 + value2)
    elif operator "-": 
        print(value1 - value2)
    pass
    else
        print("Use exactly 3 fields.")

def calculate():
    while True: 
        line = input ("Enter your command: ")
    
        if line == "q":
            print(Quit)
            break #break loop if q 

        fields == line.split()

        if len(fields) == 3:
            print(evaluate(fields))
        else:
            print(line)
calculate()
