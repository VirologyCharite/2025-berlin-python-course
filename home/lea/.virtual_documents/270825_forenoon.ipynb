


# open ("w") – activate writing mode
# with open(file, "w") as file_object: – python then closes file automatically

# new python environment
python -m venv myenv
source myenv/bin/activate
type python
deactivate

# argparse analyzes command line
# nargs = "+"  # number of arguments is more than one
# parser.add_argument(files, help="")
# *.pdf refers to all PDF files





from pypdf import PdfReader
def examine_pdf(filename, pattern)
    reader = PdfReader(filename)
    page_number = 0
    result = {}
    for page in reader.pages:
        page_number += 1
        page_text = page.extract_text().lower()
        line number = 0
        lines = page_text.split("/n")
        for line i lines:
        line number += 1
        if pattern in line: 
            if page_number not in results:
                result[page_number] = [] # add list
            result[page_number].append(line_number, line) # add tuple
    return result
            
            matched_pages.append(str(page_number))
        # print (f" {line number}: {line}" )
        if target in page_text:
            print (f"The file {filename} has a match on page {page_number}")
examine_pdf("../Zhongwei/No.1.pdf", "orthopedic")


from pypdf import PdfReader
filename = "../Zhongwei/No.1.pdf"
reader = PdfReader(filename)
target = "orthopedic"
page_number = 0
for page in reader.pages:
    page_number += 1
    page_text = page.extract_text().lower()
    if target in page_text:
        print (f"The file {filename} has a match on page {page_number}")


from pypdf import PdfReader

reader = PdfReader("../Zhongwei/No.1.pdf")
number_of_pages = len(reader.pages)
page = reader.pages[0] # first page
text = page.extract_text()



