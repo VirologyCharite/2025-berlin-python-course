def vowels_in_word(word):
    vowels = "aeiou"
    found = set() # create an empty set (no duplicates allowed)
    for letter in word.lower():
        if letter in vowels:
            found.add(letter) # add unique vowel to the set
    if found:
        print(f"Unique vowels in {word!r}: {''.join(sorted(found))}") # sorted() ensures alphabetical order
    else:
        print(f"No vowels in {word!r}.")
    return found
word = "FrIday Is Another Day"
vowels_only = vowels_in_word(word)


def vowels_in_word(word):
    for vowel in "aeiou":
        if vowel in word.lower(): # check if this vowel exists in word, if True check next letter
            print(vowel, end="")
word = "FrIday Is AnothEr Day"
vowels_in_word(word)





def vowels_in_word(word):
    vowels = "aeiou"
    found = [] 
    
    for letter in word.lower():
        if letter in vowels:
            print(letter, end='')
            found.append(letter) # append() adds a single item to the end of a list.
    print()
    
    if found:
        print(f"Vowels in {word!r}: {''.join(found)}") # join() combines all elements of a list (of strings) into one string, using the given separator.
    else:
        print(f"No vowels in {word!r}.")
    return found

# Example usage
word = "FrIday"
vowels_only = vowels_in_word(word)


def vowels_in_word(word):
    vowels = "aeiou"
    found = [] 
    
    for letter in word.lower():
        if letter in vowels:
            print(letter)      
            found.append(letter)  
    if found:
        print(f"Vowels in {word!r}: {''.join(found)}")
    else:
        print(f"No vowels in {word!r}.")
    
    return found

word = "FrIday"
vowels_only = vowels_in_word(word)


# initial draft
def count_vowels(word):
    vowels = "aeiou"
    count = 0
    for letter in word.lower(): 
        if letter in vowels:
            count += 1
    if count > 0:
        print(f"Number of vowels in {word!r} is {count}")
    else:
        print(f"No vowels in {word!r}.")
    return count

# Example usage
word = "frIdAy"
count = count_vowels(word)

def 
print word remove letters except vowels, maybe import re re
if letter == vowel
print (letter)
if letter !== vowel
print (None)
return vowals_in_word


def search_anagram(word1, word2):
    return sorted(word1.lower()) == sorted(word2.lower())
print(search_anagram("listen", "silent"))   # True
print(search_anagram("evil", "vile"))       # True
print(search_anagram("hello", "world"))     # False


a = ["red", "green", "blue", "violet"] 
sorted(a)





def reverse_complement(sequence):
    dictionary = {"A": "T", "T": "A", "C": "G", "G": "C"}
    return "".join(dictionary.get(nucleotide) for nucleotide in reversed(sequence))
print(reverse_complement("AGGCT"))


def reverse_complement(sequence):
    # Nucleotide complement dictionary
    complement = {
        "A": "T",
        "T": "A",
        "C": "G",
        "G": "C"
    }
    
    # Collect complements while reversing
    result = []
    for nucleotide in reversed(sequence.upper()):
        if nucleotide in complement:
            result.append(complement[nucleotide])
        else:
            result.append("N")  # handles unknown letters
    
    # Join list into string and return
    return "".join(result)

print(reverse_complement("AGGCT"))  # -> "AGCCT"


def reverse_complement(sequence):
    dictionary = {"A": "T", "T": "A", "C": "G", "G": "C"}
    return "".join(dictionary.get(nucleotide, "N") for nucleotide in reversed(sequence.upper()))

print(reverse_complement("AGGCT"))  # -> "AGCCT"


Convert nucleotide complement dictionary
Collect them and print them in the end

dic()

Def reverse_complement(sequence)
# return reverse complemented string of sequence
#reverse sequence and translate
A to T
C to G
G to C
T to A
For nucleotide in reversed(sequence)
Pass
reverse_complement("AGGCT")



