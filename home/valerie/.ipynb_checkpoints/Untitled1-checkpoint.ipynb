{
 "cells": [
  {
   "cell_type": "code",
   "execution_count": 37,
   "id": "71fbb943-bf19-4e95-a084-17b3ca64de64",
   "metadata": {},
   "outputs": [
    {
     "name": "stdout",
     "output_type": "stream",
     "text": [
      "The most common word is the with count 7925\n",
      "Number of unique words: 5920\n"
     ]
    }
   ],
   "source": [
    "mybook = open(\"/data/crime-and-punishment.txt\")\n",
    "wordcount_dictionary = {}\n",
    "# wordcount will be a dictionary that will have words as its keys and counts\n",
    "\n",
    "for line in mybook:\n",
    "    for word in line.split():\n",
    "        word = word.lower()\n",
    "        for unwanted_letter in \"?!\"\".,;#'-_/:\":\n",
    "            word = word.replace(unwanted_letter, \"\")\n",
    "        \n",
    "        if word in wordcount_dictionary:\n",
    "            current_count = wordcount_dictionary[word]\n",
    "            current_count = current_count + 1\n",
    "            wordcount_dictionary[word] = current_count\n",
    "# more concise code: wordcount_dictionary[word] +=1\n",
    "        else:\n",
    "            wordcount_dictionary[word] = 1\n",
    "\n",
    "highest_count = 0\n",
    "most_frequent_word = None\n",
    "\n",
    "for word, count in wordcount_dictionary.items():\n",
    "    if count > highest_count:\n",
    "        highest_count = count\n",
    "        most_frequent_word = word\n",
    "\n",
    "print(\"The most common word is\", most_frequent_word, \"with count\", highest_count)\n",
    "\n",
    "unique_count = 0\n",
    "\n",
    "for word, count in wordcount_dictionary.items():\n",
    "    if count == 1:\n",
    "        unique_count += 1\n",
    "        #print(\"Words that are only in the book once:\", word)\n",
    "\n",
    "print(\"Number of unique words:\", unique_count)\n",
    "              "
   ]
  },
  {
   "cell_type": "code",
   "execution_count": null,
   "id": "b38bcbd6-fdd4-4ae7-ad90-7bbf33a57c3d",
   "metadata": {},
   "outputs": [],
   "source": []
  }
 ],
 "metadata": {
  "kernelspec": {
   "display_name": "Python 3 (ipykernel)",
   "language": "python",
   "name": "python3"
  },
  "language_info": {
   "codemirror_mode": {
    "name": "ipython",
    "version": 3
   },
   "file_extension": ".py",
   "mimetype": "text/x-python",
   "name": "python",
   "nbconvert_exporter": "python",
   "pygments_lexer": "ipython3",
   "version": "3.12.3"
  }
 },
 "nbformat": 4,
 "nbformat_minor": 5
}
