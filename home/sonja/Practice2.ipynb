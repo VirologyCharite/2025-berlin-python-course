{
 "cells": [
  {
   "cell_type": "code",
   "execution_count": 8,
   "id": "c7990a91-6df9-4a79-8a5e-f692b086400c",
   "metadata": {},
   "outputs": [
    {
     "name": "stdout",
     "output_type": "stream",
     "text": [
      "Found 2 unique sequence ids.\n"
     ]
    }
   ],
   "source": [
    "f = open(\"/data/sequences-1.fasta\")  #no duplicates\n",
    "#f = open(\"/data/sequences-2.fasta\")  #with duplicates\n",
    "\n",
    "sequence_ids_seen = set()\n",
    "\n",
    "for line in f:  #for each line in f file\n",
    "    if line.startswith(\">\"):  #if line starts with > because we want to get sequence\n",
    "        line = line[1:].strip()\n",
    "        if line in sequence_ids_seen:\n",
    "            print(\"We have seen sequence i\", line, \"before\")\n",
    "        sequence_ids_seen.add(line)\n",
    "        \n",
    "print(\"Found\", len(sequence_ids_seen), \"unique sequence ids.\")\n"
   ]
  },
  {
   "cell_type": "code",
   "execution_count": null,
   "id": "716eaceb-7782-42f5-be56-c801834dd35e",
   "metadata": {},
   "outputs": [],
   "source": []
  },
  {
   "cell_type": "code",
   "execution_count": null,
   "id": "5a727fbf-2ad4-4130-ac82-85cf955cae74",
   "metadata": {},
   "outputs": [],
   "source": []
  }
 ],
 "metadata": {
  "kernelspec": {
   "display_name": "Python 3 (ipykernel)",
   "language": "python",
   "name": "python3"
  },
  "language_info": {
   "codemirror_mode": {
    "name": "ipython",
    "version": 3
   },
   "file_extension": ".py",
   "mimetype": "text/x-python",
   "name": "python",
   "nbconvert_exporter": "python",
   "pygments_lexer": "ipython3",
   "version": "3.12.3"
  }
 },
 "nbformat": 4,
 "nbformat_minor": 5
}
