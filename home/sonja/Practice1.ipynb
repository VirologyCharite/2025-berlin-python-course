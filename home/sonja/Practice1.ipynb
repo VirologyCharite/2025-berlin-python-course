{
 "cells": [
  {
   "cell_type": "code",
   "execution_count": 9,
   "id": "d43097a6-9705-4e21-9436-aa163e728fd4",
   "metadata": {},
   "outputs": [
    {
     "name": "stdout",
     "output_type": "stream",
     "text": [
      "The most frequent word is 'the' with count 7922\n"
     ]
    }
   ],
   "source": [
    "mybook = open(\"/data/crime-and-punishment.txt\")\n",
    "word_count_dictionary = {}\n",
    "\n",
    "for line in mybook:   #for each line in my object\n",
    "    line = line.lower()     #everything in line should be lower letter\n",
    "    for word in line.split():    #word is defined as spliting \n",
    "        for unwanted_letter in \"..,:()[]\\\"\":    #for every unwanted letter in this given string\n",
    "            word = word.replace(unwanted_letter, \"\")     #replace all the unwanted with empty space\n",
    "        if word in word_count_dictionary:      \n",
    "            word_count_dictionary[word] += 1         #if it is in the dictionary already add 1\n",
    "        else:\n",
    "            word_count_dictionary[word] = 1         #if it is not give it value 1\n",
    "\n",
    "highest_count = 0\n",
    "most_frequent_word = None\n",
    "\n",
    "for word, count in word_count_dictionary.items():  #for word and count divided by function items\n",
    "    if count > highest_count:    #if count is higher than the highest count which is 0\n",
    "        most_frequent_word = word    #then the most frequent word becomes that word\n",
    "        highest_count = count      #then also the highest count becomes that count\n",
    "\n",
    "print(f\"The most frequent word is {most_frequent_word!r} with count\", highest_count)\n",
    "\n",
    "\n",
    "      \n",
    "\n"
   ]
  },
  {
   "cell_type": "code",
   "execution_count": null,
   "id": "fefe5f55-d3d3-4753-ab08-0dfbd5541cb0",
   "metadata": {},
   "outputs": [],
   "source": []
  }
 ],
 "metadata": {
  "kernelspec": {
   "display_name": "Python 3 (ipykernel)",
   "language": "python",
   "name": "python3"
  },
  "language_info": {
   "codemirror_mode": {
    "name": "ipython",
    "version": 3
   },
   "file_extension": ".py",
   "mimetype": "text/x-python",
   "name": "python",
   "nbconvert_exporter": "python",
   "pygments_lexer": "ipython3",
   "version": "3.12.3"
  }
 },
 "nbformat": 4,
 "nbformat_minor": 5
}
