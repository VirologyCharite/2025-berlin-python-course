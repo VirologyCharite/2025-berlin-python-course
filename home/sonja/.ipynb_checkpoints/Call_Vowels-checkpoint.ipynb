{
 "cells": [
  {
   "cell_type": "code",
   "execution_count": 13,
   "id": "ab50f79d-bf72-4a67-8fc9-307d5b44ce48",
   "metadata": {},
   "outputs": [
    {
     "name": "stdin",
     "output_type": "stream",
     "text": [
      "Enter your word: lala\n"
     ]
    },
    {
     "name": "stdout",
     "output_type": "stream",
     "text": [
      "There are 2\n"
     ]
    }
   ],
   "source": [
    "\n",
    "\n",
    "def count_vowels(word):\n",
    "    count = 0   #defining the starting value\n",
    "    vowels = (\"a\", \"e\", \"i\", \"o\", \"u\")   #defining vowels\n",
    "\n",
    "    for letter in word:  #we are defining that letter will be a part of a word - and word will be recognized itself\n",
    "        if letter in vowels:   #we are giving condition to check if that letter is part of the vowels that we defined earlier\n",
    "            count = count + 1   #and if it is there we add number 1 to it\n",
    "    if count == 0:    #if the count is 0 then print below\n",
    "        print(\"There are no vowels\")\n",
    "    else:             #if its not 0 then print below\n",
    "        print(\"There are\", count)\n",
    "\n",
    "answer = input(\"Enter your word:\")\n",
    "\n",
    "count_vowels(answer)    #calling function with this word\n",
    "\n",
    "            "
   ]
  },
  {
   "cell_type": "code",
   "execution_count": 14,
   "id": "12ee1ca4-7596-498f-8f38-1d8b6da96731",
   "metadata": {},
   "outputs": [
    {
     "name": "stdin",
     "output_type": "stream",
     "text": [
      "Enter your word: talala\n"
     ]
    },
    {
     "name": "stdout",
     "output_type": "stream",
     "text": [
      "There are 3\n"
     ]
    }
   ],
   "source": [
    "def count_vowels_mind_blow(word):\n",
    "    count = 0   #defining the starting value\n",
    "    vowels = (\"a\", \"e\", \"i\", \"o\", \"u\")   #defining vowels\n",
    "\n",
    "    return sum(letter in vowels for letter in word)\n",
    "    if count == 0:    #if the count is 0 then print below\n",
    "        print(\"There are no vowels\")\n",
    "    else:             #if its not 0 then print below\n",
    "        print(\"There are\", count)\n",
    "\n",
    "answer = input(\"Enter your word:\")\n",
    "\n",
    "count_vowels(answer)    #calling function with this word"
   ]
  },
  {
   "cell_type": "code",
   "execution_count": 35,
   "id": "28a6e857-90e7-4ef3-9dc1-b3fff407f232",
   "metadata": {},
   "outputs": [
    {
     "name": "stdin",
     "output_type": "stream",
     "text": [
      "Enter a word:  aaaabbbb\n"
     ]
    },
    {
     "name": "stdout",
     "output_type": "stream",
     "text": [
      "aaaa\n"
     ]
    }
   ],
   "source": [
    "def print_vowels(word):\n",
    "    vowels = (\"a\", \"e\", \"i\", \"o\", \"u\")  #defining vowels\n",
    "    result = \"\" # defining how result will be represented in a string if we want them together\"\n",
    "    \n",
    "    for letter in word:  #we are defining that letter will be a part of a word - and word will be recognized itself\n",
    "        if letter in vowels:   #we are giving condition to check if that letter is part of the vowels that we defined earlier\n",
    "            result = result + letter  #result which was empty before becomes result + letter that shows up in vowels\n",
    "            \n",
    "    print(result)      #and if it is print those letters\n",
    "\n",
    "answer = input(\"Enter a word: \")\n",
    "print_vowels(answer)    #calling function with this word"
   ]
  },
  {
   "cell_type": "code",
   "execution_count": 41,
   "id": "edccac03-9cbe-4eea-bd16-c14ca8ae67da",
   "metadata": {},
   "outputs": [
    {
     "name": "stdin",
     "output_type": "stream",
     "text": [
      "Enter a word:  aabbbeeoo\n"
     ]
    },
    {
     "name": "stdout",
     "output_type": "stream",
     "text": [
      "{'a', 'o', 'e'}\n"
     ]
    }
   ],
   "source": [
    "def print_vowels_once(word):\n",
    "    vowels = (\"a\", \"e\", \"i\", \"o\", \"u\")  #defining vowels\n",
    "    already_printed = set() # defining how result will be represented in a string if we want them together\"\n",
    "    \n",
    "    for letter in word:  #we are defining that letter will be a part of a word - and word will be recognized itself\n",
    "        if letter in vowels: #we are giving condition to check if that letter is part of the vowels that we defined earlier\n",
    "            already_printed.add(letter)   #result which was empty before becomes result + letter that shows up in vowels\n",
    "    \n",
    "    print(already_printed)\n",
    "     \n",
    "\n",
    "answer = input(\"Enter a word: \")\n",
    "print_vowels_once(answer)    #calling function with this word"
   ]
  },
  {
   "cell_type": "code",
   "execution_count": 46,
   "id": "5d374605-98ca-45c1-a5f4-e3ef727ff4fd",
   "metadata": {},
   "outputs": [
    {
     "name": "stdout",
     "output_type": "stream",
     "text": [
      "a\n",
      "i\n"
     ]
    }
   ],
   "source": [
    "def print_vowels_once(word):\n",
    "    for vowel in \"aeiou\":\n",
    "        if vowel in word:\n",
    "            print(vowel)\n",
    "\n",
    "print_vowels_once(\"Friday\")\n",
    "    "
   ]
  },
  {
   "cell_type": "code",
   "execution_count": null,
   "id": "b1786d55-f7fe-494e-bae9-c522bdffda4a",
   "metadata": {},
   "outputs": [],
   "source": [
    "\n"
   ]
  }
 ],
 "metadata": {
  "kernelspec": {
   "display_name": "Python 3 (ipykernel)",
   "language": "python",
   "name": "python3"
  },
  "language_info": {
   "codemirror_mode": {
    "name": "ipython",
    "version": 3
   },
   "file_extension": ".py",
   "mimetype": "text/x-python",
   "name": "python",
   "nbconvert_exporter": "python",
   "pygments_lexer": "ipython3",
   "version": "3.12.3"
  }
 },
 "nbformat": 4,
 "nbformat_minor": 5
}
