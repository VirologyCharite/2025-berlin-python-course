{
 "cells": [
  {
   "cell_type": "code",
   "execution_count": null,
   "id": "6bb65717-30db-41c6-926c-035fea05f12c",
   "metadata": {},
   "outputs": [
    {
     "name": "stdin",
     "output_type": "stream",
     "text": [
      "Enter your command: 2*3\n"
     ]
    },
    {
     "name": "stdout",
     "output_type": "stream",
     "text": [
      "Sorry only 3 firlds\n"
     ]
    },
    {
     "name": "stdin",
     "output_type": "stream",
     "text": [
      "Enter your command: 2+3\n"
     ]
    },
    {
     "name": "stdout",
     "output_type": "stream",
     "text": [
      "Sorry only 3 firlds\n"
     ]
    },
    {
     "name": "stdin",
     "output_type": "stream",
     "text": [
      "Enter your command: 3+4\n"
     ]
    },
    {
     "name": "stdout",
     "output_type": "stream",
     "text": [
      "Sorry only 3 firlds\n"
     ]
    },
    {
     "name": "stdin",
     "output_type": "stream",
     "text": [
      "Enter your command: 2+3\n"
     ]
    },
    {
     "name": "stdout",
     "output_type": "stream",
     "text": [
      "Sorry only 3 firlds\n"
     ]
    }
   ],
   "source": [
    "def evaluate(fields):\n",
    "    value1, operator, value2 = fields\n",
    "\n",
    "#convert to integer\n",
    "    value1 = int(value1)\n",
    "    value2 = int(value2)\n",
    "    if operator == \"+\":\n",
    "        return value1 + value2\n",
    "    elif operator == \"-\":\n",
    "        return value1 - value2\n",
    "    else:\n",
    "        print(\"Sorry I know only add and sub\")\n",
    "\n",
    "def calculate():\n",
    "    while True:\n",
    "        line = input(\"Enter your command:\")\n",
    "\n",
    "        if line == \"q\":\n",
    "            print (\"Goodbye\")\n",
    "            break\n",
    "\n",
    "        fields = line.split()\n",
    "\n",
    "        if len(fields) == 3:\n",
    "            print(evaluate(fields))\n",
    "        else:\n",
    "            print(\"Sorry only 3 fields\")\n",
    "\n",
    "calculate()\n",
    "\n",
    "\n",
    "\n",
    "        \n",
    "        "
   ]
  },
  {
   "cell_type": "code",
   "execution_count": null,
   "id": "a6606844-a323-4a6e-b2ba-bbad91c172ba",
   "metadata": {},
   "outputs": [],
   "source": []
  }
 ],
 "metadata": {
  "kernelspec": {
   "display_name": "Python 3 (ipykernel)",
   "language": "python",
   "name": "python3"
  },
  "language_info": {
   "codemirror_mode": {
    "name": "ipython",
    "version": 3
   },
   "file_extension": ".py",
   "mimetype": "text/x-python",
   "name": "python",
   "nbconvert_exporter": "python",
   "pygments_lexer": "ipython3",
   "version": "3.12.3"
  }
 },
 "nbformat": 4,
 "nbformat_minor": 5
}
