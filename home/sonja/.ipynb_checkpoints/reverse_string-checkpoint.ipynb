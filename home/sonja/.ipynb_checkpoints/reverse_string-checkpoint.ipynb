{
 "cells": [
  {
   "cell_type": "code",
   "execution_count": 8,
   "id": "49664bdd-08dc-4538-8326-035e7c806f97",
   "metadata": {},
   "outputs": [
    {
     "name": "stdout",
     "output_type": "stream",
     "text": [
      "AGCCCT\n"
     ]
    }
   ],
   "source": [
    "def reverse_complement(sequence):\n",
    "    # 1. Define mapping of each nucleotide to its complement\n",
    "    complement = {\n",
    "        \"A\": \"T\",\n",
    "        \"T\": \"A\",\n",
    "        \"C\": \"G\",\n",
    "        \"G\": \"C\"\n",
    "    }\n",
    "\n",
    "    # 2. Start with an empty string to build the reverse complement\n",
    "    new_sequence = \"\"\n",
    "\n",
    "    # 3. Loop through the sequence in reverse\n",
    "    for nucleotide in reversed(sequence):\n",
    "        # Convert nucleotide to uppercase (just in case)\n",
    "        n = nucleotide.upper()\n",
    "\n",
    "        # 4. Add the complement of this nucleotide to the new string\n",
    "        if n in complement:\n",
    "            new_sequence += complement[n]\n",
    "\n",
    "    # 5. Return the full reverse complement\n",
    "    return new_sequence\n",
    "\n",
    "\n",
    "# Example usage:\n",
    "print(reverse_complement(\"AGGGCT\"))  # Output: AGCCCT\n"
   ]
  },
  {
   "cell_type": "code",
   "execution_count": null,
   "id": "06311161-66e5-4c7c-b8b5-847399be3404",
   "metadata": {},
   "outputs": [],
   "source": []
  }
 ],
 "metadata": {
  "kernelspec": {
   "display_name": "Python 3 (ipykernel)",
   "language": "python",
   "name": "python3"
  },
  "language_info": {
   "codemirror_mode": {
    "name": "ipython",
    "version": 3
   },
   "file_extension": ".py",
   "mimetype": "text/x-python",
   "name": "python",
   "nbconvert_exporter": "python",
   "pygments_lexer": "ipython3",
   "version": "3.12.3"
  }
 },
 "nbformat": 4,
 "nbformat_minor": 5
}
