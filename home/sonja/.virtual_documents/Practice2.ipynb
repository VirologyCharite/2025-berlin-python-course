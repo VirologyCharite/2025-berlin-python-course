f = open("/data/sequences-1.fasta")  #no duplicates
#f = open("/data/sequences-2.fasta")  #with duplicates

sequence_ids_seen = set()

for line in f:  #for each line in f file
    if line.startswith(">"):  #if line starts with > because we want to get sequence
        line = line[1:].strip()
        if line in sequence_ids_seen:
            print("We have seen sequence i", line, "before")
        sequence_ids_seen.add(line)
        
print("Found", len(sequence_ids_seen), "unique sequence ids.")







