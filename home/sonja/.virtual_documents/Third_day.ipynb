from pypdf import PfReader

filename = "../.....pdf"
reader = PdfReader(filename)
target = "orthopedic"

print(f"Reading {filename} ({len(reader.pages)} pages).")

page_number = 0

for page in reader.pages:
    page_number += 1
    page_text = page.extract_text().lower()
    if pattern in page.text:
        print(f" match on page {page_number}")
        



