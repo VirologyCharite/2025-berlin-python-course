def evaluate(fields):
    value1, operator, value2 = fields

#convert to integer
    value1 = int(value1)
    value2 = int(value2)
    if operator == "+":
        return value1 + value2
    elif operator == "-":
        return value1 - value2
    else:
        print("Sorry I know only add and sub")

def calculate():
    while True:
        line = input("Enter your command:")

        if line == "q":
            print ("Goodbye")
            break

        fields = line.split()

        if len(fields) == 3:
            print(evaluate(fields))
        else:
            print("Sorry only 3 fields")

calculate()



        
        



