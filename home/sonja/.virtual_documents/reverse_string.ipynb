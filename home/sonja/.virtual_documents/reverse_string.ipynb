def reverse_complement(sequence):
    # 1. Define mapping of each nucleotide to its complement
    complement = {
        "A": "T",
        "T": "A",
        "C": "G",
        "G": "C"
    }

    # 2. Start with an empty string to build the reverse complement
    new_sequence = ""

    # 3. Loop through the sequence in reverse
    for nucleotide in reversed(sequence):
        # Convert nucleotide to uppercase (just in case)
        n = nucleotide.upper()

        # 4. Add the complement of this nucleotide to the new string
        if n in complement:
            new_sequence += complement[n]

    # 5. Return the full reverse complement
    return new_sequence


# Example usage:
print(reverse_complement("AGGGCT"))  # Output: AGCCCT




