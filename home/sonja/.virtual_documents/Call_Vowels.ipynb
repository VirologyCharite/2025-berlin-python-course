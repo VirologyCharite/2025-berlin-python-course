

def count_vowels(word):
    count = 0   #defining the starting value
    vowels = ("a", "e", "i", "o", "u")   #defining vowels

    for letter in word:  #we are defining that letter will be a part of a word - and word will be recognized itself
        if letter in vowels:   #we are giving condition to check if that letter is part of the vowels that we defined earlier
            count = count + 1   #and if it is there we add number 1 to it
    if count == 0:    #if the count is 0 then print below
        print("There are no vowels")
    else:             #if its not 0 then print below
        print("There are", count)

answer = input("Enter your word:")

count_vowels(answer)    #calling function with this word

            


def count_vowels_mind_blow(word):
    count = 0   #defining the starting value
    vowels = ("a", "e", "i", "o", "u")   #defining vowels

    return sum(letter in vowels for letter in word)
    if count == 0:    #if the count is 0 then print below
        print("There are no vowels")
    else:             #if its not 0 then print below
        print("There are", count)

answer = input("Enter your word:")

count_vowels(answer)    #calling function with this word


def print_vowels(word):
    vowels = ("a", "e", "i", "o", "u")  #defining vowels
    result = "" # defining how result will be represented in a string if we want them together"
    
    for letter in word:  #we are defining that letter will be a part of a word - and word will be recognized itself
        if letter in vowels:   #we are giving condition to check if that letter is part of the vowels that we defined earlier
            result = result + letter  #result which was empty before becomes result + letter that shows up in vowels
            
    print(result)      #and if it is print those letters

answer = input("Enter a word: ")
print_vowels(answer)    #calling function with this word


def print_vowels_once(word):
    vowels = ("a", "e", "i", "o", "u")  #defining vowels
    already_printed = set() # defining how result will be represented in a string if we want them together"
    
    for letter in word:  #we are defining that letter will be a part of a word - and word will be recognized itself
        if letter in vowels: #we are giving condition to check if that letter is part of the vowels that we defined earlier
            already_printed.add(letter)   #result which was empty before becomes result + letter that shows up in vowels
    
    print(already_printed)
     

answer = input("Enter a word: ")
print_vowels_once(answer)    #calling function with this word


def print_vowels_once(word):
    for vowel in "aeiou":
        if vowel in word:
            print(vowel)

print_vowels_once("Friday")
    




