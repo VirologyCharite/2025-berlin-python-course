mybook = open("/data/crime-and-punishment.txt")
word_count_dictionary = {}

for line in mybook:   #for each line in my object
    line = line.lower()     #everything in line should be lower letter
    for word in line.split():    #word is defined as spliting 
        for unwanted_letter in "..,:()[]\"":    #for every unwanted letter in this given string
            word = word.replace(unwanted_letter, "")     #replace all the unwanted with empty space
        if word in word_count_dictionary:      
            word_count_dictionary[word] += 1         #if it is in the dictionary already add 1
        else:
            word_count_dictionary[word] = 1         #if it is not give it value 1

highest_count = 0
most_frequent_word = None

for word, count in word_count_dictionary.items():  #for word and count divided by function items
    if count > highest_count:    #if count is higher than the highest count which is 0
        most_frequent_word = word    #then the most frequent word becomes that word
        highest_count = count      #then also the highest count becomes that count

print(f"The most frequent word is {most_frequent_word!r} with count", highest_count)


      





